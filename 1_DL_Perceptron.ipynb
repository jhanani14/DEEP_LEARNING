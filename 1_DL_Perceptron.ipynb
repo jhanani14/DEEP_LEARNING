{
  "nbformat": 4,
  "nbformat_minor": 0,
  "metadata": {
    "colab": {
      "provenance": [],
      "authorship_tag": "ABX9TyON6yuvW89UXlaawO8fVjHs",
      "include_colab_link": true
    },
    "kernelspec": {
      "name": "python3",
      "display_name": "Python 3"
    },
    "language_info": {
      "name": "python"
    }
  },
  "cells": [
    {
      "cell_type": "markdown",
      "metadata": {
        "id": "view-in-github",
        "colab_type": "text"
      },
      "source": [
        "<a href=\"https://colab.research.google.com/github/jhanani14/DEEP_LEARNING/blob/main/1_DL_Perceptron.ipynb\" target=\"_parent\"><img src=\"https://colab.research.google.com/assets/colab-badge.svg\" alt=\"Open In Colab\"/></a>"
      ]
    },
    {
      "cell_type": "code",
      "execution_count": 1,
      "metadata": {
        "id": "z3Fq1v7O7q3K"
      },
      "outputs": [],
      "source": [
        "# IMPORTING LIBRARIES\n",
        "\n",
        "from numpy import array     #For array initialization\n",
        "from numpy import random    #For randomly choosing numbers\n",
        "from numpy import dot       #For doing dot product\n",
        "from random import choice"
      ]
    },
    {
      "cell_type": "code",
      "source": [
        "# ACTIVATION FUNCTION\n",
        "\n",
        "activationFn = lambda x: 0 if x < 0 else 1"
      ],
      "metadata": {
        "id": "mT9iGdFv8uCQ"
      },
      "execution_count": 2,
      "outputs": []
    },
    {
      "cell_type": "code",
      "source": [
        "# TRAINING DATASET\n",
        "\n",
        "dataset = [\n",
        "    (array([0,1,1]),0),            #array([x,y,b],e)\n",
        "    (array([0,1,1]),1),            #x,y=Input\n",
        "    (array([1,0,1]),1),            #b=bias\n",
        "    (array([1,1,1]),1)             #e=Expected output to validate\n",
        "]\n",
        "print(dataset)"
      ],
      "metadata": {
        "colab": {
          "base_uri": "https://localhost:8080/"
        },
        "id": "aM2rKu_89XMK",
        "outputId": "48fab5d4-e3d4-4c54-98c3-dc949f5a9e03"
      },
      "execution_count": 3,
      "outputs": [
        {
          "output_type": "stream",
          "name": "stdout",
          "text": [
            "[(array([0, 1, 1]), 0), (array([0, 1, 1]), 1), (array([1, 0, 1]), 1), (array([1, 1, 1]), 1)]\n"
          ]
        }
      ]
    },
    {
      "cell_type": "code",
      "source": [
        "# INITIALIZING RANDOM NUMBERS FOR WEIGHTS\n",
        "\n",
        "weights = random.rand(3)\n",
        "weights"
      ],
      "metadata": {
        "colab": {
          "base_uri": "https://localhost:8080/"
        },
        "id": "wxndGS02-MFE",
        "outputId": "ddcab948-1087-4a52-a710-b3ca2d87470b"
      },
      "execution_count": 4,
      "outputs": [
        {
          "output_type": "execute_result",
          "data": {
            "text/plain": [
              "array([0.32049474, 0.11567148, 0.2467279 ])"
            ]
          },
          "metadata": {},
          "execution_count": 4
        }
      ]
    },
    {
      "cell_type": "code",
      "source": [
        "# INITIALIZING ADDITIONAL VARIABLES\n",
        "\n",
        "r = 0.2        #learning rate\n",
        "n = 100        #number of iterations"
      ],
      "metadata": {
        "id": "3Q-ifKwK-n9h"
      },
      "execution_count": 5,
      "outputs": []
    },
    {
      "cell_type": "code",
      "source": [
        "# TRAINING OUR MODEL\n",
        "\n",
        "for j in range(n):\n",
        "  x,expected = choice(dataset)           #random input set,includes repeated numbers\n",
        "  print(x,expected)\n",
        "  result = dot(weights, x)               # dot product of the input and the weight vectors\n",
        "  err = expected-activationFn(result)\n",
        "  weights += r * err * x                 #calculate the correction factor, added to weights to improve output in next iteration\n",
        "  #If the expected value is bigger,the weights should be increased,and if expected value is smaller,the weights should be decreased"
      ],
      "metadata": {
        "colab": {
          "base_uri": "https://localhost:8080/"
        },
        "id": "wRsMw9iF-076",
        "outputId": "c9031692-0ed3-4336-86c0-35fbd9030b2d"
      },
      "execution_count": 6,
      "outputs": [
        {
          "output_type": "stream",
          "name": "stdout",
          "text": [
            "[0 1 1] 0\n",
            "[1 0 1] 1\n",
            "[0 1 1] 0\n",
            "[1 1 1] 1\n",
            "[1 0 1] 1\n",
            "[1 0 1] 1\n",
            "[1 1 1] 1\n",
            "[1 0 1] 1\n",
            "[1 0 1] 1\n",
            "[1 1 1] 1\n",
            "[0 1 1] 1\n",
            "[0 1 1] 0\n",
            "[0 1 1] 1\n",
            "[0 1 1] 0\n",
            "[0 1 1] 0\n",
            "[0 1 1] 0\n",
            "[0 1 1] 1\n",
            "[1 1 1] 1\n",
            "[0 1 1] 0\n",
            "[0 1 1] 0\n",
            "[1 0 1] 1\n",
            "[1 0 1] 1\n",
            "[1 0 1] 1\n",
            "[0 1 1] 1\n",
            "[1 0 1] 1\n",
            "[1 1 1] 1\n",
            "[0 1 1] 1\n",
            "[1 1 1] 1\n",
            "[1 1 1] 1\n",
            "[1 1 1] 1\n",
            "[1 0 1] 1\n",
            "[0 1 1] 0\n",
            "[1 0 1] 1\n",
            "[0 1 1] 1\n",
            "[0 1 1] 1\n",
            "[1 1 1] 1\n",
            "[1 1 1] 1\n",
            "[1 1 1] 1\n",
            "[1 1 1] 1\n",
            "[1 1 1] 1\n",
            "[1 0 1] 1\n",
            "[1 0 1] 1\n",
            "[0 1 1] 1\n",
            "[1 1 1] 1\n",
            "[0 1 1] 1\n",
            "[0 1 1] 1\n",
            "[0 1 1] 1\n",
            "[1 0 1] 1\n",
            "[0 1 1] 1\n",
            "[0 1 1] 0\n",
            "[1 1 1] 1\n",
            "[1 0 1] 1\n",
            "[0 1 1] 1\n",
            "[1 0 1] 1\n",
            "[0 1 1] 0\n",
            "[0 1 1] 1\n",
            "[1 0 1] 1\n",
            "[1 0 1] 1\n",
            "[0 1 1] 0\n",
            "[0 1 1] 0\n",
            "[1 0 1] 1\n",
            "[1 1 1] 1\n",
            "[0 1 1] 1\n",
            "[0 1 1] 0\n",
            "[0 1 1] 0\n",
            "[1 1 1] 1\n",
            "[0 1 1] 1\n",
            "[1 1 1] 1\n",
            "[1 1 1] 1\n",
            "[1 0 1] 1\n",
            "[1 1 1] 1\n",
            "[1 0 1] 1\n",
            "[1 0 1] 1\n",
            "[0 1 1] 1\n",
            "[0 1 1] 1\n",
            "[0 1 1] 1\n",
            "[0 1 1] 0\n",
            "[1 1 1] 1\n",
            "[0 1 1] 1\n",
            "[1 1 1] 1\n",
            "[1 0 1] 1\n",
            "[1 1 1] 1\n",
            "[0 1 1] 1\n",
            "[0 1 1] 0\n",
            "[0 1 1] 1\n",
            "[0 1 1] 0\n",
            "[1 1 1] 1\n",
            "[1 1 1] 1\n",
            "[0 1 1] 0\n",
            "[1 0 1] 1\n",
            "[1 1 1] 1\n",
            "[0 1 1] 0\n",
            "[1 1 1] 1\n",
            "[1 0 1] 1\n",
            "[1 0 1] 1\n",
            "[0 1 1] 0\n",
            "[1 0 1] 1\n",
            "[0 1 1] 1\n",
            "[1 1 1] 1\n",
            "[1 0 1] 1\n"
          ]
        }
      ]
    },
    {
      "cell_type": "code",
      "source": [
        "# EVALUATING MODEL\n",
        "\n",
        "for x, _ in dataset:\n",
        "  result = dot(x,weights)\n",
        "  print(\"Input: {} ResultBAFn: {} ResultAFn: {}\".format(x[:2], round(result,3), activationFn(result)))"
      ],
      "metadata": {
        "colab": {
          "base_uri": "https://localhost:8080/"
        },
        "id": "MRER2py3Ahvz",
        "outputId": "ca03bf67-a691-427e-ef63-7f56d1c6c63e"
      },
      "execution_count": 7,
      "outputs": [
        {
          "output_type": "stream",
          "name": "stdout",
          "text": [
            "Input: [0 1] ResultBAFn: 0.362 ResultAFn: 1\n",
            "Input: [0 1] ResultBAFn: 0.362 ResultAFn: 1\n",
            "Input: [1 0] ResultBAFn: 0.567 ResultAFn: 1\n",
            "Input: [1 1] ResultBAFn: 0.683 ResultAFn: 1\n"
          ]
        }
      ]
    }
  ]
}